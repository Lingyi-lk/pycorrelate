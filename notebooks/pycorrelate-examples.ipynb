{
 "cells": [
  {
   "cell_type": "markdown",
   "metadata": {},
   "source": [
    "# Pycorrelate examples and validation\n",
    "\n",
    "This notebook show `pycorrelate` usage as well comparisons with other \n",
    "less efficient implementations."
   ]
  },
  {
   "cell_type": "code",
   "execution_count": null,
   "metadata": {},
   "outputs": [],
   "source": [
    "import numpy as np\n",
    "import h5py"
   ]
  },
  {
   "cell_type": "code",
   "execution_count": null,
   "metadata": {},
   "outputs": [],
   "source": [
    "# Tweak here matplotlib style\n",
    "import matplotlib.pyplot as plt\n",
    "import matplotlib as mpl\n",
    "mpl.rcParams['font.sans-serif'].insert(0, 'Arial')\n",
    "mpl.rcParams['font.size'] = 14\n",
    "%config InlineBackend.figure_format = 'retina'\n",
    "%matplotlib inline"
   ]
  },
  {
   "cell_type": "code",
   "execution_count": null,
   "metadata": {},
   "outputs": [],
   "source": [
    "import pycorrelate as pyc"
   ]
  },
  {
   "cell_type": "markdown",
   "metadata": {},
   "source": [
    "## Load Data\n",
    "\n",
    "Download data [here](http://files.figshare.com/2182601/0023uLRpitc_NTP_20dT_0.5GndCl.hdf5)."
   ]
  },
  {
   "cell_type": "code",
   "execution_count": null,
   "metadata": {},
   "outputs": [],
   "source": [
    "fname = \"./data/0023uLRpitc_NTP_20dT_0.5GndCl.hdf5\"\n",
    "h5 = h5py.File(fname)\n",
    "unit = 12.5e-9"
   ]
  },
  {
   "cell_type": "code",
   "execution_count": null,
   "metadata": {},
   "outputs": [],
   "source": [
    "num_ph = int(3e6)\n",
    "t = h5['photon_data']['timestamps'][:num_ph][h5['photon_data']['detectors'][:num_ph] == 0]\n",
    "u = h5['photon_data']['timestamps'][:num_ph][h5['photon_data']['detectors'][:num_ph] == 1]"
   ]
  },
  {
   "cell_type": "code",
   "execution_count": null,
   "metadata": {},
   "outputs": [],
   "source": [
    "t.shape, u.shape, t[0], u[0]"
   ]
  },
  {
   "cell_type": "code",
   "execution_count": null,
   "metadata": {},
   "outputs": [],
   "source": [
    "t.max()*unit, u.max()*unit"
   ]
  },
  {
   "cell_type": "markdown",
   "metadata": {},
   "source": [
    "Timestamps need to be monotonic, let's test it:"
   ]
  },
  {
   "cell_type": "code",
   "execution_count": null,
   "metadata": {},
   "outputs": [],
   "source": [
    "assert (np.diff(t) > 0).all()\n",
    "assert (np.diff(u) > 0).all()"
   ]
  },
  {
   "cell_type": "markdown",
   "metadata": {},
   "source": [
    "## Log-scale bins (base 10)"
   ]
  },
  {
   "cell_type": "code",
   "execution_count": null,
   "metadata": {},
   "outputs": [],
   "source": [
    "exp10_min = -7\n",
    "exp10_max = 0\n",
    "points_per_base = 10\n",
    "\n",
    "num_points = points_per_base*(exp10_max - exp10_min) + 1\n",
    "bins = np.logspace(exp10_min, exp10_max, num_points) / unit\n",
    "nbins = len(bins) -1"
   ]
  },
  {
   "cell_type": "code",
   "execution_count": null,
   "metadata": {},
   "outputs": [],
   "source": [
    "nbins, bins[:4], bins[-4:], bins[-1]*unit"
   ]
  },
  {
   "cell_type": "code",
   "execution_count": null,
   "metadata": {},
   "outputs": [],
   "source": [
    "G = pyc.correlate(t, u, bins)"
   ]
  },
  {
   "cell_type": "code",
   "execution_count": null,
   "metadata": {},
   "outputs": [],
   "source": [
    "fig, ax = plt.subplots(figsize=(10, 6))\n",
    "plt.plot(bins*unit, np.hstack((G[:1], G)), drawstyle='steps-pre')\n",
    "plt.xlabel('Time (s)')\n",
    "#for x in bins[1:]: plt.axvline(x*unit, lw=0.2)  # to mark bins\n",
    "plt.xlim(30e-9, 2)\n",
    "plt.xscale('log')\n",
    "plt.grid(True)\n",
    "plt.grid(True, which='minor', lw=0.3)"
   ]
  },
  {
   "cell_type": "markdown",
   "metadata": {},
   "source": [
    "## Log-scale bins (base 2)"
   ]
  },
  {
   "cell_type": "code",
   "execution_count": null,
   "metadata": {},
   "outputs": [],
   "source": [
    "exp2_min = -1\n",
    "exp2_max = 28\n",
    "points_per_base = 4\n",
    "\n",
    "num_points = points_per_base*(exp2_max - exp2_min) + 1\n",
    "bins = np.unique(\n",
    "    np.logspace(exp2_min, exp2_max, num_points, \n",
    "                base=2, dtype='int64'))\n",
    "nbins = len(bins) -1"
   ]
  },
  {
   "cell_type": "code",
   "execution_count": null,
   "metadata": {},
   "outputs": [],
   "source": [
    "nbins, bins[:4], bins[-4:], bins[-1]*unit"
   ]
  },
  {
   "cell_type": "code",
   "execution_count": null,
   "metadata": {},
   "outputs": [],
   "source": [
    "G = pyc.correlate(t, u, bins)"
   ]
  },
  {
   "cell_type": "code",
   "execution_count": null,
   "metadata": {},
   "outputs": [],
   "source": [
    "fig, ax = plt.subplots(figsize=(10, 6))\n",
    "plt.plot(bins*unit, np.hstack((G[:1], G)), drawstyle='steps-pre')\n",
    "plt.xscale('log')\n",
    "plt.xlabel('Time (s)')\n",
    "#for x in bins[1:]: plt.axvline(x*unit, lw=0.2)  # to mark bins\n",
    "plt.xlim(30e-9, 2)\n",
    "plt.grid(True)\n",
    "plt.grid(True, which='minor', lw=0.3)"
   ]
  },
  {
   "cell_type": "markdown",
   "metadata": {},
   "source": [
    "## Multi-tau bins"
   ]
  },
  {
   "cell_type": "code",
   "execution_count": null,
   "metadata": {},
   "outputs": [],
   "source": [
    "n_group = 4\n",
    "bin_widths = []\n",
    "for i in range(26):\n",
    "    bin_widths += [2**i]*n_group\n",
    "np.array(bin_widths)\n",
    "bins = np.hstack(([0], np.cumsum(bin_widths)))\n",
    "nbins = len(bins) - 1"
   ]
  },
  {
   "cell_type": "code",
   "execution_count": null,
   "metadata": {},
   "outputs": [],
   "source": [
    "nbins, bins[:4], bins[-4:], bins[-1]*unit"
   ]
  },
  {
   "cell_type": "code",
   "execution_count": null,
   "metadata": {},
   "outputs": [],
   "source": [
    "G = pyc.correlate(t, u, bins)"
   ]
  },
  {
   "cell_type": "code",
   "execution_count": null,
   "metadata": {},
   "outputs": [],
   "source": [
    "fig, ax = plt.subplots(figsize=(10, 6))\n",
    "plt.plot(bins*unit, np.hstack((G[:1], G)), drawstyle='steps-pre')\n",
    "plt.xscale('log')\n",
    "plt.xlabel('Time (s)')\n",
    "#for x in bins[1:]: plt.axvline(x*unit, lw=0.2)  # to mark bins\n",
    "plt.xlim(30e-9, 2)\n",
    "plt.grid(True)\n",
    "plt.grid(True, which='minor', lw=0.3)"
   ]
  },
  {
   "cell_type": "markdown",
   "metadata": {},
   "source": [
    "## Test: comparison with np.histogram\n",
    "\n",
    "For testing we use smaller input arrays:"
   ]
  },
  {
   "cell_type": "code",
   "execution_count": null,
   "metadata": {},
   "outputs": [],
   "source": [
    "tt = t[:1000]\n",
    "uu = u[:1000]"
   ]
  },
  {
   "cell_type": "markdown",
   "metadata": {},
   "source": [
    "The same algorims can be expressed in numpy in an incredible simple way\n",
    "using `np.histogram`:"
   ]
  },
  {
   "cell_type": "code",
   "execution_count": null,
   "metadata": {},
   "outputs": [],
   "source": [
    "Y = np.zeros(nbins, dtype=np.int64)\n",
    "for ti in tt:\n",
    "    Yc, _ = np.histogram(uu - ti, bins=bins)\n",
    "    Y += Yc\n",
    "G = Y / np.diff(bins)"
   ]
  },
  {
   "cell_type": "code",
   "execution_count": null,
   "metadata": {},
   "outputs": [],
   "source": [
    "assert (G == pyc.correlate(tt, uu, bins)).all()"
   ]
  },
  {
   "cell_type": "markdown",
   "metadata": {},
   "source": [
    "Test passed! Here we demonstrated that the logic of the algorithm\n",
    "is implemented as described in the paper (and in the few lines of code above)."
   ]
  },
  {
   "cell_type": "markdown",
   "metadata": {},
   "source": [
    "## Tests: comparison with np.correlate\n",
    "\n",
    "The comparison with `np.correlate` is a little tricky.\n",
    "First we need to bin our input to create timetraces that can be correlated\n",
    "by linear convolution. For testing purposes, let's choice\n",
    "some timetrace bins:"
   ]
  },
  {
   "cell_type": "code",
   "execution_count": null,
   "metadata": {},
   "outputs": [],
   "source": [
    "bins_tt = np.arange(0, tt.max()*unit, 50e-6) / unit\n",
    "bins_uu = np.arange(0, uu.max()*unit, 50e-6) / unit"
   ]
  },
  {
   "cell_type": "code",
   "execution_count": null,
   "metadata": {},
   "outputs": [],
   "source": [
    "bins_tt.max()*unit, bins_tt.size"
   ]
  },
  {
   "cell_type": "code",
   "execution_count": null,
   "metadata": {},
   "outputs": [],
   "source": [
    "bins_uu.max()*unit, bins_uu.size"
   ]
  },
  {
   "cell_type": "code",
   "execution_count": null,
   "metadata": {},
   "outputs": [],
   "source": [
    "tx, _ = np.histogram(tt, bins=bins_tt)\n",
    "ux, _ = np.histogram(uu, bins=bins_uu)\n",
    "\n",
    "plt.plot(bins_tt[1:]*unit, tx)\n",
    "plt.plot(bins_uu[1:]*unit, ux)\n",
    "plt.xlabel('Time (s)')"
   ]
  },
  {
   "cell_type": "markdown",
   "metadata": {},
   "source": [
    "The plots above are the two curves we are going to feed to\n",
    "`np.correlate`:"
   ]
  },
  {
   "cell_type": "code",
   "execution_count": null,
   "metadata": {},
   "outputs": [],
   "source": [
    "C = np.correlate(tx, ux, mode='full')"
   ]
  },
  {
   "cell_type": "markdown",
   "metadata": {},
   "source": [
    "We need to trim the result to obtain a proper alignment with\n",
    "the 0-time lag:"
   ]
  },
  {
   "cell_type": "code",
   "execution_count": null,
   "metadata": {},
   "outputs": [],
   "source": [
    "CC = C[ux.size-1:]  # trim to positive time lags"
   ]
  },
  {
   "cell_type": "markdown",
   "metadata": {},
   "source": [
    "Now, let's compute the correlation with pycorrelate using the same\n",
    "bin-width used for the timetrace:"
   ]
  },
  {
   "cell_type": "code",
   "execution_count": null,
   "metadata": {},
   "outputs": [],
   "source": [
    "bins_g = (np.arange(0, 0.5, 50e-6) / unit).astype('int64')\n",
    "G = pyc.correlate(tt, uu, bins_g)"
   ]
  },
  {
   "cell_type": "code",
   "execution_count": null,
   "metadata": {},
   "outputs": [],
   "source": [
    "fig, ax = plt.subplots(figsize=(10, 6))\n",
    "plt.plot(np.arange(1, CC.size+1)*50e-3, CC/4000, lw=2, label='numpy.correlate') \n",
    "plt.plot(bins_g[1:]*unit*1e3, G, alpha=0.7, lw=2, label='pycorrelate.correlate')\n",
    "plt.xlabel('Time (ms)', fontsize='large')\n",
    "plt.grid(True)\n",
    "plt.xlim(30e-3, 500)\n",
    "plt.xscale('log')\n",
    "plt.title('pycorrelate.correlate vs numpy.correlate', fontsize='x-large')\n",
    "plt.legend(loc='best', fontsize='x-large')"
   ]
  },
  {
   "cell_type": "markdown",
   "metadata": {},
   "source": [
    "Given the widely different nature of the two algorithms, \n",
    "this match is a fairly good evidence of correctness."
   ]
  }
 ],
 "metadata": {
  "kernelspec": {
   "display_name": "Python [default]",
   "language": "python",
   "name": "python3"
  },
  "language_info": {
   "codemirror_mode": {
    "name": "ipython",
    "version": 3
   },
   "file_extension": ".py",
   "mimetype": "text/x-python",
   "name": "python",
   "nbconvert_exporter": "python",
   "pygments_lexer": "ipython3",
   "version": "3.5.2"
  },
  "toc": {
   "colors": {
    "hover_highlight": "#DAA520",
    "running_highlight": "#FF0000",
    "selected_highlight": "#FFD700"
   },
   "moveMenuLeft": true,
   "nav_menu": {
    "height": "264px",
    "width": "252px"
   },
   "navigate_menu": true,
   "number_sections": false,
   "sideBar": true,
   "threshold": 4,
   "toc_cell": false,
   "toc_position": {
    "height": "673px",
    "left": "0px",
    "right": "1139.11px",
    "top": "107px",
    "width": "212px"
   },
   "toc_section_display": "block",
   "toc_window_display": true,
   "widenNotebook": false
  }
 },
 "nbformat": 4,
 "nbformat_minor": 1
}
