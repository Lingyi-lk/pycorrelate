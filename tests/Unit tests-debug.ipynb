{
 "cells": [
  {
   "cell_type": "markdown",
   "metadata": {},
   "source": [
    "# Debug unit test errors\n"
   ]
  },
  {
   "cell_type": "code",
   "execution_count": null,
   "metadata": {},
   "outputs": [],
   "source": [
    "import test_pycorrelate as tp"
   ]
  },
  {
   "cell_type": "code",
   "execution_count": null,
   "metadata": {},
   "outputs": [],
   "source": [
    "import pycorrelate as pyc\n",
    "import numpy as np\n",
    "import matplotlib.pyplot as plt\n",
    "%matplotlib inline"
   ]
  },
  {
   "cell_type": "code",
   "execution_count": null,
   "metadata": {},
   "outputs": [],
   "source": [
    "data = tp.load_dataset()"
   ]
  },
  {
   "cell_type": "code",
   "execution_count": null,
   "metadata": {},
   "outputs": [],
   "source": [
    "t, u, unit = data"
   ]
  },
  {
   "cell_type": "code",
   "execution_count": null,
   "metadata": {},
   "outputs": [],
   "source": [
    "tp.test_pcorrelate(data)"
   ]
  },
  {
   "cell_type": "code",
   "execution_count": null,
   "metadata": {},
   "outputs": [],
   "source": [
    "# binwidth = 50e-6\n",
    "# bins_tt = np.arange(0, t.max() * unit, binwidth) / unit\n",
    "# bins_uu = np.arange(0, u.max() * unit, binwidth) / unit\n",
    "# tx, _ = np.histogram(t, bins=bins_tt)\n",
    "# ux, _ = np.histogram(u, bins=bins_uu)\n",
    "# Gu = pyc.ucorrelate(tx, ux)\n",
    "# maxlag_sec = 1.2  # seconds\n",
    "# lagbins = (np.arange(0, maxlag_sec, binwidth) / unit).astype('int64')\n",
    "# Gp = pyc.pcorrelate(t, u, lagbins) * int(binwidth / unit)\n",
    "# n = 6000\n",
    "# err = np.abs(Gp[:n] - Gu[:n]) / (0.5 * (Gp[:n] + Gu[:n]))"
   ]
  },
  {
   "cell_type": "code",
   "execution_count": null,
   "metadata": {},
   "outputs": [],
   "source": [
    "# fig, ax = plt.subplots(figsize=(10, 6))\n",
    "# Gu_t = np.arange(1, Gu.size+1) * binwidth * 1e3\n",
    "# Gp_t = lagbins[1:] * unit * 1e3 + 0.5*binwidth\n",
    "# plt.plot(Gu_t, Gu, alpha=0.6, lw=2, label='pycorrelate.ucorrelate')\n",
    "# plt.plot(Gp_t, Gp, alpha=0.7, lw=2, label='pycorrelate.pcorrelate')\n",
    "# plt.xlabel('Time (ms)', fontsize='large')\n",
    "# plt.grid(True)\n",
    "# #plt.xlim(30e-3, 500)\n",
    "# plt.xscale('log')\n",
    "# plt.title('pycorrelate.correlate vs numpy.correlate', fontsize='x-large')\n",
    "# plt.legend(loc='best', fontsize='x-large');"
   ]
  },
  {
   "cell_type": "code",
   "execution_count": null,
   "metadata": {},
   "outputs": [],
   "source": []
  }
 ],
 "metadata": {
  "kernelspec": {
   "display_name": "Python 3.6 (pycorrelate-dev)",
   "language": "python",
   "name": "pycorrelate-dev"
  },
  "language_info": {
   "codemirror_mode": {
    "name": "ipython",
    "version": 3
   },
   "file_extension": ".py",
   "mimetype": "text/x-python",
   "name": "python",
   "nbconvert_exporter": "python",
   "pygments_lexer": "ipython3",
   "version": "3.6.2"
  }
 },
 "nbformat": 4,
 "nbformat_minor": 1
}
